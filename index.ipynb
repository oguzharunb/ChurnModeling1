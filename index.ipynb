{
 "cells": [
  {
   "cell_type": "code",
   "execution_count": 83,
   "metadata": {},
   "outputs": [],
   "source": [
    "import pandas as pd\n",
    "import numpy as np\n",
    "import seaborn as sns\n",
    "import matplotlib.pyplot as plt\n",
    "from sklearn.tree import        DecisionTreeClassifier\n",
    "from sklearn.tree import        ExtraTreeClassifier\n",
    "from sklearn.ensemble import    GradientBoostingClassifier\n",
    "from sklearn.ensemble import    HistGradientBoostingClassifier\n",
    "from sklearn.ensemble import    RandomForestClassifier\n",
    "from sklearn.ensemble import    AdaBoostClassifier\n",
    "from sklearn.metrics import accuracy_score\n",
    "from sklearn.model_selection import train_test_split\n",
    "%matplotlib inline"
   ]
  },
  {
   "cell_type": "code",
   "execution_count": 84,
   "metadata": {},
   "outputs": [],
   "source": [
    "df = pd.read_csv('Churn_Modelling.csv')"
   ]
  },
  {
   "cell_type": "code",
   "execution_count": 85,
   "metadata": {},
   "outputs": [],
   "source": [
    "del df['CustomerId']\n",
    "del df['Surname']\n",
    "del df['RowNumber']\n",
    "#gerek olmayan kolonlar silinir"
   ]
  },
  {
   "cell_type": "code",
   "execution_count": 86,
   "metadata": {},
   "outputs": [],
   "source": [
    "df['isMale'] = df['Gender'] == 'Male'\n",
    "df['isMale'] = df['isMale'].astype(int)\n",
    "del df['Gender']"
   ]
  },
  {
   "cell_type": "code",
   "execution_count": 87,
   "metadata": {},
   "outputs": [
    {
     "data": {
      "text/plain": [
       "France     5014\n",
       "Germany    2509\n",
       "Spain      2477\n",
       "Name: Geography, dtype: int64"
      ]
     },
     "execution_count": 87,
     "metadata": {},
     "output_type": "execute_result"
    }
   ],
   "source": [
    "df['Geography'].value_counts()"
   ]
  },
  {
   "cell_type": "code",
   "execution_count": 88,
   "metadata": {},
   "outputs": [],
   "source": [
    "df = pd.get_dummies(df,['Geography'])"
   ]
  },
  {
   "cell_type": "code",
   "execution_count": 89,
   "metadata": {},
   "outputs": [],
   "source": [
    "y = df['Exited']\n",
    "x = df.drop(['Exited'],axis= 1)"
   ]
  },
  {
   "cell_type": "code",
   "execution_count": 90,
   "metadata": {},
   "outputs": [],
   "source": [
    "X_train, X_test, y_train, y_test = train_test_split(x,y,test_size=0.25, random_state=42)"
   ]
  },
  {
   "cell_type": "code",
   "execution_count": 93,
   "metadata": {},
   "outputs": [],
   "source": [
    "dtc     = DecisionTreeClassifier()\n",
    "etc     = ExtraTreeClassifier()\n",
    "gbc     = GradientBoostingClassifier()\n",
    "hgbc    = HistGradientBoostingClassifier()\n",
    "rfc     = RandomForestClassifier()\n",
    "abc     = AdaBoostClassifier()"
   ]
  },
  {
   "cell_type": "code",
   "execution_count": 94,
   "metadata": {},
   "outputs": [
    {
     "data": {
      "text/plain": [
       "AdaBoostClassifier()"
      ]
     },
     "execution_count": 94,
     "metadata": {},
     "output_type": "execute_result"
    }
   ],
   "source": [
    "dtc.fit(X_train,y_train)\n",
    "etc.fit(X_train,y_train)\n",
    "gbc.fit(X_train,y_train)\n",
    "hgbc.fit(X_train,y_train)\n",
    "rfc.fit(X_train,y_train)\n",
    "abc.fit(X_train,y_train)"
   ]
  },
  {
   "cell_type": "code",
   "execution_count": 95,
   "metadata": {},
   "outputs": [
    {
     "name": "stdout",
     "output_type": "stream",
     "text": [
      "0.7916\n",
      "0.7712\n",
      "0.8716\n",
      "0.8692\n",
      "0.8688\n",
      "0.8564\n"
     ]
    }
   ],
   "source": [
    "print(accuracy_score(dtc.predict(X_test),y_test))\n",
    "print(accuracy_score(etc.predict(X_test),y_test))\n",
    "print(accuracy_score(gbc.predict(X_test),y_test))\n",
    "print(accuracy_score(hgbc.predict(X_test),y_test))\n",
    "print(accuracy_score(rfc.predict(X_test),y_test))\n",
    "print(accuracy_score(abc.predict(X_test),y_test))"
   ]
  },
  {
   "cell_type": "code",
   "execution_count": 96,
   "metadata": {},
   "outputs": [],
   "source": [
    "import pickle"
   ]
  },
  {
   "cell_type": "code",
   "execution_count": 97,
   "metadata": {},
   "outputs": [],
   "source": [
    "pickle.dump(gbc,open(\"classfmodel.pkl\",'wb'))"
   ]
  }
 ],
 "metadata": {
  "interpreter": {
   "hash": "43b33ea457c3901ad40b62c915c14f508169c5b1c5c07d155de108553873929d"
  },
  "kernelspec": {
   "display_name": "Python 3.10.4 64-bit",
   "language": "python",
   "name": "python3"
  },
  "language_info": {
   "codemirror_mode": {
    "name": "ipython",
    "version": 3
   },
   "file_extension": ".py",
   "mimetype": "text/x-python",
   "name": "python",
   "nbconvert_exporter": "python",
   "pygments_lexer": "ipython3",
   "version": "3.10.4"
  },
  "orig_nbformat": 4
 },
 "nbformat": 4,
 "nbformat_minor": 2
}
